{
 "cells": [
  {
   "cell_type": "code",
   "execution_count": 15,
   "id": "97189aa3",
   "metadata": {},
   "outputs": [
    {
     "name": "stdout",
     "output_type": "stream",
     "text": [
      "['5.1,3.5,1.4,0.2,Iris-setosa']\n",
      "['4.9,3.0,1.4,0.2,Iris-setosa']\n",
      "['4.7,3.2,1.3,0.2,Iris-setosa']\n",
      "['4.6,3.1,1.5,0.2,Iris-setosa']\n",
      "['5.0,3.6,1.4,0.2,Iris-setosa']\n",
      "['5.4,3.9,1.7,0.4,Iris-setosa']\n",
      "['4.6,3.4,1.4,0.3,Iris-setosa']\n",
      "['5.0,3.4,1.5,0.2,Iris-setosa']\n",
      "['4.4,2.9,1.4,0.2,Iris-setosa']\n",
      "['4.9,3.1,1.5,0.1,Iris-setosa']\n",
      "['5.4,3.7,1.5,0.2,Iris-setosa']\n",
      "['4.8,3.4,1.6,0.2,Iris-setosa']\n",
      "['4.8,3.0,1.4,0.1,Iris-setosa']\n",
      "['4.3,3.0,1.1,0.1,Iris-setosa']\n",
      "['5.8,4.0,1.2,0.2,Iris-setosa']\n",
      "['5.7,4.4,1.5,0.4,Iris-setosa']\n",
      "['5.4,3.9,1.3,0.4,Iris-setosa']\n",
      "['5.1,3.5,1.4,0.3,Iris-setosa']\n",
      "['5.7,3.8,1.7,0.3,Iris-setosa']\n",
      "['5.1,3.8,1.5,0.3,Iris-setosa']\n",
      "['5.4,3.4,1.7,0.2,Iris-setosa']\n",
      "['5.1,3.7,1.5,0.4,Iris-setosa']\n",
      "['4.6,3.6,1.0,0.2,Iris-setosa']\n",
      "['5.1,3.3,1.7,0.5,Iris-setosa']\n",
      "['4.8,3.4,1.9,0.2,Iris-setosa']\n",
      "['5.0,3.0,1.6,0.2,Iris-setosa']\n",
      "['5.0,3.4,1.6,0.4,Iris-setosa']\n",
      "['5.2,3.5,1.5,0.2,Iris-setosa']\n",
      "['5.2,3.4,1.4,0.2,Iris-setosa']\n",
      "['4.7,3.2,1.6,0.2,Iris-setosa']\n",
      "['4.8,3.1,1.6,0.2,Iris-setosa']\n",
      "['5.4,3.4,1.5,0.4,Iris-setosa']\n",
      "['5.2,4.1,1.5,0.1,Iris-setosa']\n",
      "['5.5,4.2,1.4,0.2,Iris-setosa']\n",
      "['4.9,3.1,1.5,0.1,Iris-setosa']\n",
      "['5.0,3.2,1.2,0.2,Iris-setosa']\n",
      "['5.5,3.5,1.3,0.2,Iris-setosa']\n",
      "['4.9,3.1,1.5,0.1,Iris-setosa']\n",
      "['4.4,3.0,1.3,0.2,Iris-setosa']\n",
      "['5.1,3.4,1.5,0.2,Iris-setosa']\n",
      "['5.0,3.5,1.3,0.3,Iris-setosa']\n",
      "['4.5,2.3,1.3,0.3,Iris-setosa']\n",
      "['4.4,3.2,1.3,0.2,Iris-setosa']\n",
      "['5.0,3.5,1.6,0.6,Iris-setosa']\n",
      "['5.1,3.8,1.9,0.4,Iris-setosa']\n",
      "['4.8,3.0,1.4,0.3,Iris-setosa']\n",
      "['5.1,3.8,1.6,0.2,Iris-setosa']\n",
      "['4.6,3.2,1.4,0.2,Iris-setosa']\n",
      "['5.3,3.7,1.5,0.2,Iris-setosa']\n",
      "['5.0,3.3,1.4,0.2,Iris-setosa']\n",
      "['7.0,3.2,4.7,1.4,Iris-versicolor']\n",
      "['6.4,3.2,4.5,1.5,Iris-versicolor']\n",
      "['6.9,3.1,4.9,1.5,Iris-versicolor']\n",
      "['5.5,2.3,4.0,1.3,Iris-versicolor']\n",
      "['6.5,2.8,4.6,1.5,Iris-versicolor']\n",
      "['5.7,2.8,4.5,1.3,Iris-versicolor']\n",
      "['6.3,3.3,4.7,1.6,Iris-versicolor']\n",
      "['4.9,2.4,3.3,1.0,Iris-versicolor']\n",
      "['6.6,2.9,4.6,1.3,Iris-versicolor']\n",
      "['5.2,2.7,3.9,1.4,Iris-versicolor']\n",
      "['5.0,2.0,3.5,1.0,Iris-versicolor']\n",
      "['5.9,3.0,4.2,1.5,Iris-versicolor']\n",
      "['6.0,2.2,4.0,1.0,Iris-versicolor']\n",
      "['6.1,2.9,4.7,1.4,Iris-versicolor']\n",
      "['5.6,2.9,3.6,1.3,Iris-versicolor']\n",
      "['6.7,3.1,4.4,1.4,Iris-versicolor']\n",
      "['5.6,3.0,4.5,1.5,Iris-versicolor']\n",
      "['5.8,2.7,4.1,1.0,Iris-versicolor']\n",
      "['6.2,2.2,4.5,1.5,Iris-versicolor']\n",
      "['5.6,2.5,3.9,1.1,Iris-versicolor']\n",
      "['5.9,3.2,4.8,1.8,Iris-versicolor']\n",
      "['6.1,2.8,4.0,1.3,Iris-versicolor']\n",
      "['6.3,2.5,4.9,1.5,Iris-versicolor']\n",
      "['6.1,2.8,4.7,1.2,Iris-versicolor']\n",
      "['6.4,2.9,4.3,1.3,Iris-versicolor']\n",
      "['6.6,3.0,4.4,1.4,Iris-versicolor']\n",
      "['6.8,2.8,4.8,1.4,Iris-versicolor']\n",
      "['6.7,3.0,5.0,1.7,Iris-versicolor']\n",
      "['6.0,2.9,4.5,1.5,Iris-versicolor']\n",
      "['5.7,2.6,3.5,1.0,Iris-versicolor']\n",
      "['5.5,2.4,3.8,1.1,Iris-versicolor']\n",
      "['5.5,2.4,3.7,1.0,Iris-versicolor']\n",
      "['5.8,2.7,3.9,1.2,Iris-versicolor']\n",
      "['6.0,2.7,5.1,1.6,Iris-versicolor']\n",
      "['5.4,3.0,4.5,1.5,Iris-versicolor']\n",
      "['6.0,3.4,4.5,1.6,Iris-versicolor']\n",
      "['6.7,3.1,4.7,1.5,Iris-versicolor']\n",
      "['6.3,2.3,4.4,1.3,Iris-versicolor']\n",
      "['5.6,3.0,4.1,1.3,Iris-versicolor']\n",
      "['5.5,2.5,4.0,1.3,Iris-versicolor']\n",
      "['5.5,2.6,4.4,1.2,Iris-versicolor']\n",
      "['6.1,3.0,4.6,1.4,Iris-versicolor']\n",
      "['5.8,2.6,4.0,1.2,Iris-versicolor']\n",
      "['5.0,2.3,3.3,1.0,Iris-versicolor']\n",
      "['5.6,2.7,4.2,1.3,Iris-versicolor']\n",
      "['5.7,3.0,4.2,1.2,Iris-versicolor']\n",
      "['5.7,2.9,4.2,1.3,Iris-versicolor']\n",
      "['6.2,2.9,4.3,1.3,Iris-versicolor']\n",
      "['5.1,2.5,3.0,1.1,Iris-versicolor']\n",
      "['5.7,2.8,4.1,1.3,Iris-versicolor']\n",
      "['6.3,3.3,6.0,2.5,Iris-virginica']\n",
      "['5.8,2.7,5.1,1.9,Iris-virginica']\n",
      "['7.1,3.0,5.9,2.1,Iris-virginica']\n",
      "['6.3,2.9,5.6,1.8,Iris-virginica']\n",
      "['6.5,3.0,5.8,2.2,Iris-virginica']\n",
      "['7.6,3.0,6.6,2.1,Iris-virginica']\n",
      "['4.9,2.5,4.5,1.7,Iris-virginica']\n",
      "['7.3,2.9,6.3,1.8,Iris-virginica']\n",
      "['6.7,2.5,5.8,1.8,Iris-virginica']\n",
      "['7.2,3.6,6.1,2.5,Iris-virginica']\n",
      "['6.5,3.2,5.1,2.0,Iris-virginica']\n",
      "['6.4,2.7,5.3,1.9,Iris-virginica']\n",
      "['6.8,3.0,5.5,2.1,Iris-virginica']\n",
      "['5.7,2.5,5.0,2.0,Iris-virginica']\n",
      "['5.8,2.8,5.1,2.4,Iris-virginica']\n",
      "['6.4,3.2,5.3,2.3,Iris-virginica']\n",
      "['6.5,3.0,5.5,1.8,Iris-virginica']\n",
      "['7.7,3.8,6.7,2.2,Iris-virginica']\n",
      "['7.7,2.6,6.9,2.3,Iris-virginica']\n",
      "['6.0,2.2,5.0,1.5,Iris-virginica']\n",
      "['6.9,3.2,5.7,2.3,Iris-virginica']\n",
      "['5.6,2.8,4.9,2.0,Iris-virginica']\n",
      "['7.7,2.8,6.7,2.0,Iris-virginica']\n",
      "['6.3,2.7,4.9,1.8,Iris-virginica']\n",
      "['6.7,3.3,5.7,2.1,Iris-virginica']\n",
      "['7.2,3.2,6.0,1.8,Iris-virginica']\n",
      "['6.2,2.8,4.8,1.8,Iris-virginica']\n",
      "['6.1,3.0,4.9,1.8,Iris-virginica']\n",
      "['6.4,2.8,5.6,2.1,Iris-virginica']\n",
      "['7.2,3.0,5.8,1.6,Iris-virginica']\n",
      "['7.4,2.8,6.1,1.9,Iris-virginica']\n",
      "['7.9,3.8,6.4,2.0,Iris-virginica']\n",
      "['6.4,2.8,5.6,2.2,Iris-virginica']\n",
      "['6.3,2.8,5.1,1.5,Iris-virginica']\n",
      "['6.1,2.6,5.6,1.4,Iris-virginica']\n",
      "['7.7,3.0,6.1,2.3,Iris-virginica']\n",
      "['6.3,3.4,5.6,2.4,Iris-virginica']\n",
      "['6.4,3.1,5.5,1.8,Iris-virginica']\n",
      "['6.0,3.0,4.8,1.8,Iris-virginica']\n",
      "['6.9,3.1,5.4,2.1,Iris-virginica']\n",
      "['6.7,3.1,5.6,2.4,Iris-virginica']\n",
      "['6.9,3.1,5.1,2.3,Iris-virginica']\n",
      "['5.8,2.7,5.1,1.9,Iris-virginica']\n",
      "['6.8,3.2,5.9,2.3,Iris-virginica']\n",
      "['6.7,3.3,5.7,2.5,Iris-virginica']\n",
      "['6.7,3.0,5.2,2.3,Iris-virginica']\n",
      "['6.3,2.5,5.0,1.9,Iris-virginica']\n",
      "['6.5,3.0,5.2,2.0,Iris-virginica']\n",
      "['6.2,3.4,5.4,2.3,Iris-virginica']\n",
      "['5.9,3.0,5.1,1.8,Iris-virginica']\n"
     ]
    }
   ],
   "source": [
    "import numpy as np\n",
    "import pandas as pd\n",
    "import matplotlib.pyplot as plt\n",
    "import seaborn as sns\n",
    "\n",
    "\n",
    "#lignes = pd.read_csv('iris.data.txt')\n",
    "#lignes.head()\n",
    "import csv\n",
    "import random\n",
    "import math\n",
    "import operator\n",
    "\n",
    "with open('iris.data.txt','r', newline='') as csvfile:\n",
    "    lines = csv.reader(csvfile, delimiter=' ')\n",
    "    for row in lines:\n",
    "        print(row)"
   ]
  },
  {
   "cell_type": "code",
   "execution_count": 25,
   "id": "6e159e3f",
   "metadata": {},
   "outputs": [],
   "source": [
    "# Split the data into training and test data\n",
    "\n",
    "def loadDataset(lines, split, trainingSet=[] , testSet=[]):\n",
    "    with open('iris.data.txt', 'r') as csvfile:\n",
    "        lines = csv.reader(csvfile)\n",
    "        dataset = list(lines)\n",
    "        for x in range(len(dataset)):\n",
    "            for y in range(4):\n",
    "                dataset[x][y] = float(dataset[x][y])\n",
    "            if random.random() < split:\n",
    "                trainingSet.append(dataset[x])\n",
    "            else:\n",
    "                testSet.append(dataset[x])\n"
   ]
  },
  {
   "cell_type": "code",
   "execution_count": 26,
   "id": "1ef9e8e5",
   "metadata": {},
   "outputs": [
    {
     "name": "stdout",
     "output_type": "stream",
     "text": [
      "Train: 97\n",
      "Test: 53\n"
     ]
    }
   ],
   "source": [
    "                \n",
    "trainingSet=[]\n",
    "testSet=[]\n",
    "loadDataset('iris.data', 0.66, trainingSet, testSet)\n",
    "print ('Train: ' + repr(len(trainingSet)))\n",
    "print ('Test: ' + repr(len(testSet)))"
   ]
  },
  {
   "cell_type": "code",
   "execution_count": 18,
   "id": "14144493",
   "metadata": {},
   "outputs": [],
   "source": [
    "#foction distance\n",
    "\n",
    "def euclideanDistance(instance1, instance2, length):\n",
    "    distance = 0\n",
    "    for x in range(length):\n",
    "        distance += pow((instance1[x] - instance2[x]), 2)\n",
    "    return math.sqrt(distance)"
   ]
  },
  {
   "cell_type": "code",
   "execution_count": 20,
   "id": "c74713d5",
   "metadata": {},
   "outputs": [
    {
     "name": "stdout",
     "output_type": "stream",
     "text": [
      "Distance: 3.4641016151377544\n"
     ]
    }
   ],
   "source": [
    "#test\n",
    "\n",
    "data1 = [2, 2, 2, 'a']\n",
    "data2 = [4, 4, 4, 'b']\n",
    "distance = euclideanDistance(data1, data2, 3)\n",
    "\n",
    "print('Distance: ' + repr(distance))"
   ]
  },
  {
   "cell_type": "code",
   "execution_count": 22,
   "id": "246d6b24",
   "metadata": {},
   "outputs": [],
   "source": [
    "#fonction neighbors\n",
    "\n",
    "def getNeighbors(trainingSet, testInstance, k):\n",
    "    distances = []\n",
    "    length = len(testInstance)-1\n",
    "    for x in range(len(trainingSet)):\n",
    "        dist = euclideanDistance(testInstance, trainingSet[x], length)\n",
    "        distances.append((trainingSet[x], dist))\n",
    "    distances.sort(key = operator.itemgetter(1))\n",
    "    neighbors = []\n",
    "    for x in range(k):\n",
    "        neighbors.append(distances[x][0])\n",
    "    return neighbors"
   ]
  },
  {
   "cell_type": "code",
   "execution_count": 23,
   "id": "a03f5643",
   "metadata": {},
   "outputs": [
    {
     "name": "stdout",
     "output_type": "stream",
     "text": [
      "[[4, 4, 4, 'b']]\n"
     ]
    }
   ],
   "source": [
    "#test\n",
    "\n",
    "trainSet = [[2, 2, 2, 'a'], [4, 4, 4, 'b']]\n",
    "testInstance = [5, 5, 5]\n",
    "k = 1\n",
    "neighbors = getNeighbors(trainSet, testInstance, 1)\n",
    "print(neighbors)"
   ]
  },
  {
   "cell_type": "code",
   "execution_count": 41,
   "id": "6d9f9f63",
   "metadata": {},
   "outputs": [],
   "source": [
    "#foction reponse \n",
    "\n",
    "def getResponse(neighbors):\n",
    "    # Creating a list with all the possible neighbors\n",
    "    classVotes = {}\n",
    "    for x in range(len(neighbors)):\n",
    "        response = neighbors[x][-1]\n",
    "        if response in classVotes:\n",
    "            classVotes[response] += 1\n",
    "        else:\n",
    "            classVotes[response] = 1\n",
    "    sortedVotes = sorted(classVotes.iteritems(), key=operator.itemgetter(1), reverse=True)\n",
    "    return sortedVotes[0][0]"
   ]
  },
  {
   "cell_type": "code",
   "execution_count": 40,
   "id": "6657cb7f",
   "metadata": {},
   "outputs": [
    {
     "ename": "AttributeError",
     "evalue": "'dict' object has no attribute 'iteritems'",
     "output_type": "error",
     "traceback": [
      "\u001b[1;31m---------------------------------------------------------------------------\u001b[0m",
      "\u001b[1;31mAttributeError\u001b[0m                            Traceback (most recent call last)",
      "Cell \u001b[1;32mIn[40], line 3\u001b[0m\n\u001b[0;32m      1\u001b[0m \u001b[38;5;66;03m#test\u001b[39;00m\n\u001b[0;32m      2\u001b[0m neighbors \u001b[38;5;241m=\u001b[39m [[\u001b[38;5;241m1\u001b[39m,\u001b[38;5;241m1\u001b[39m,\u001b[38;5;241m1\u001b[39m,\u001b[38;5;124m'\u001b[39m\u001b[38;5;124ma\u001b[39m\u001b[38;5;124m'\u001b[39m], [\u001b[38;5;241m2\u001b[39m,\u001b[38;5;241m2\u001b[39m,\u001b[38;5;241m2\u001b[39m,\u001b[38;5;124m'\u001b[39m\u001b[38;5;124ma\u001b[39m\u001b[38;5;124m'\u001b[39m], [\u001b[38;5;241m3\u001b[39m,\u001b[38;5;241m3\u001b[39m,\u001b[38;5;241m3\u001b[39m,\u001b[38;5;124m'\u001b[39m\u001b[38;5;124mb\u001b[39m\u001b[38;5;124m'\u001b[39m]]\n\u001b[1;32m----> 3\u001b[0m response \u001b[38;5;241m=\u001b[39m \u001b[43mgetResponse\u001b[49m\u001b[43m(\u001b[49m\u001b[43mneighbors\u001b[49m\u001b[43m)\u001b[49m\n\u001b[0;32m      4\u001b[0m \u001b[38;5;28mprint\u001b[39m(response)\n",
      "Cell \u001b[1;32mIn[39], line 12\u001b[0m, in \u001b[0;36mgetResponse\u001b[1;34m(neighbors)\u001b[0m\n\u001b[0;32m     10\u001b[0m     \u001b[38;5;28;01melse\u001b[39;00m:\n\u001b[0;32m     11\u001b[0m         classVotes[response] \u001b[38;5;241m=\u001b[39m \u001b[38;5;241m1\u001b[39m\n\u001b[1;32m---> 12\u001b[0m sortedVotes \u001b[38;5;241m=\u001b[39m \u001b[38;5;28msorted\u001b[39m(\u001b[43mclassVotes\u001b[49m\u001b[38;5;241;43m.\u001b[39;49m\u001b[43miteritems\u001b[49m(\u001b[38;5;241m3\u001b[39m), key\u001b[38;5;241m=\u001b[39moperator\u001b[38;5;241m.\u001b[39mitemgetter(\u001b[38;5;241m1\u001b[39m), reverse\u001b[38;5;241m=\u001b[39m\u001b[38;5;28;01mTrue\u001b[39;00m)\n\u001b[0;32m     13\u001b[0m \u001b[38;5;28;01mreturn\u001b[39;00m sortedVotes[\u001b[38;5;241m0\u001b[39m][\u001b[38;5;241m0\u001b[39m]\n",
      "\u001b[1;31mAttributeError\u001b[0m: 'dict' object has no attribute 'iteritems'"
     ]
    }
   ],
   "source": [
    "#test\n",
    "neighbors = [[1,1,1,'a'], [2,2,2,'a'], [3,3,3,'b']]\n",
    "response = getResponse(neighbors)\n",
    "print(response)"
   ]
  },
  {
   "cell_type": "code",
   "execution_count": 42,
   "id": "675f1797",
   "metadata": {},
   "outputs": [],
   "source": [
    "#fonction accuracy\n",
    "\n",
    "def getAccuracy(testSet, predictions):\n",
    "    correct = 0\n",
    "    for x in range(len(testSet)):\n",
    "        if testSet[x][-1] == predictions[x]:\n",
    "            correct += 1\n",
    "    return (correct/float(len(testSet))) * 100.0"
   ]
  },
  {
   "cell_type": "code",
   "execution_count": 43,
   "id": "e9e21115",
   "metadata": {},
   "outputs": [
    {
     "name": "stdout",
     "output_type": "stream",
     "text": [
      "66.66666666666666\n"
     ]
    }
   ],
   "source": [
    "#test\n",
    "testSet = [[1,1,1,'a'], [2,2,2,'a'], [3,3,3,'b']]\n",
    "predictions = ['a', 'a', 'a']\n",
    "accuracy = getAccuracy(testSet, predictions)\n",
    "print(accuracy)"
   ]
  },
  {
   "cell_type": "code",
   "execution_count": 51,
   "id": "02fc1653",
   "metadata": {},
   "outputs": [
    {
     "name": "stdout",
     "output_type": "stream",
     "text": [
      "Train set: 102\n",
      "Test set: 48\n"
     ]
    },
    {
     "ename": "AttributeError",
     "evalue": "'dict' object has no attribute 'iteritems'",
     "output_type": "error",
     "traceback": [
      "\u001b[1;31m---------------------------------------------------------------------------\u001b[0m",
      "\u001b[1;31mAttributeError\u001b[0m                            Traceback (most recent call last)",
      "Cell \u001b[1;32mIn[51], line 19\u001b[0m\n\u001b[0;32m     17\u001b[0m     accuracy \u001b[38;5;241m=\u001b[39m getAccuracy(testSet, predictions)\n\u001b[0;32m     18\u001b[0m     \u001b[38;5;28mprint\u001b[39m (\u001b[38;5;124m'\u001b[39m\u001b[38;5;124mAccuracy: \u001b[39m\u001b[38;5;124m'\u001b[39m, accuracy)\n\u001b[1;32m---> 19\u001b[0m \u001b[43mmain\u001b[49m\u001b[43m(\u001b[49m\u001b[43m)\u001b[49m\n",
      "Cell \u001b[1;32mIn[51], line 14\u001b[0m, in \u001b[0;36mmain\u001b[1;34m()\u001b[0m\n\u001b[0;32m     12\u001b[0m \u001b[38;5;28;01mfor\u001b[39;00m x \u001b[38;5;129;01min\u001b[39;00m \u001b[38;5;28mrange\u001b[39m(\u001b[38;5;28mlen\u001b[39m(testSet)):\n\u001b[0;32m     13\u001b[0m     neighbors \u001b[38;5;241m=\u001b[39m getNeighbors(trainingSet, testSet[x], k)\n\u001b[1;32m---> 14\u001b[0m     result \u001b[38;5;241m=\u001b[39m \u001b[43mgetResponse\u001b[49m\u001b[43m(\u001b[49m\u001b[43mneighbors\u001b[49m\u001b[43m)\u001b[49m\n\u001b[0;32m     15\u001b[0m     predictions\u001b[38;5;241m.\u001b[39mappend(result)\n\u001b[0;32m     16\u001b[0m     \u001b[38;5;66;03m#print('> predicted=' + repr(result) + ', actual=' + repr(testSet[x][-1]))\u001b[39;00m\n",
      "Cell \u001b[1;32mIn[41], line 12\u001b[0m, in \u001b[0;36mgetResponse\u001b[1;34m(neighbors)\u001b[0m\n\u001b[0;32m     10\u001b[0m     \u001b[38;5;28;01melse\u001b[39;00m:\n\u001b[0;32m     11\u001b[0m         classVotes[response] \u001b[38;5;241m=\u001b[39m \u001b[38;5;241m1\u001b[39m\n\u001b[1;32m---> 12\u001b[0m sortedVotes \u001b[38;5;241m=\u001b[39m \u001b[38;5;28msorted\u001b[39m(\u001b[43mclassVotes\u001b[49m\u001b[38;5;241;43m.\u001b[39;49m\u001b[43miteritems\u001b[49m(), key\u001b[38;5;241m=\u001b[39moperator\u001b[38;5;241m.\u001b[39mitemgetter(\u001b[38;5;241m1\u001b[39m), reverse\u001b[38;5;241m=\u001b[39m\u001b[38;5;28;01mTrue\u001b[39;00m)\n\u001b[0;32m     13\u001b[0m \u001b[38;5;28;01mreturn\u001b[39;00m sortedVotes[\u001b[38;5;241m0\u001b[39m][\u001b[38;5;241m0\u001b[39m]\n",
      "\u001b[1;31mAttributeError\u001b[0m: 'dict' object has no attribute 'iteritems'"
     ]
    }
   ],
   "source": [
    "#foction main\n",
    "\n",
    "def main():\n",
    "    trainingSet=[]\n",
    "    testSet=[]\n",
    "    split = 0.67\n",
    "    loadDataset('iris.data', split, trainingSet, testSet)\n",
    "    print('Train set: ' + repr(len(trainingSet)))\n",
    "    print('Test set: ' + repr(len(testSet)))    \n",
    "    predictions=[]\n",
    "    k = 3\n",
    "    for x in range(len(testSet)):\n",
    "        neighbors = getNeighbors(trainingSet, testSet[x], k)\n",
    "        result = getResponse(neighbors)\n",
    "        predictions.append(result)\n",
    "        #print('> predicted=' + repr(result) + ', actual=' + repr(testSet[x][-1]))\n",
    "    accuracy = getAccuracy(testSet, predictions)\n",
    "    print ('Accuracy: ', accuracy)\n",
    "main()"
   ]
  },
  {
   "cell_type": "code",
   "execution_count": null,
   "id": "c3c257b8",
   "metadata": {},
   "outputs": [],
   "source": []
  },
  {
   "cell_type": "code",
   "execution_count": null,
   "id": "fa223379",
   "metadata": {},
   "outputs": [],
   "source": []
  }
 ],
 "metadata": {
  "kernelspec": {
   "display_name": "Python 3 (ipykernel)",
   "language": "python",
   "name": "python3"
  },
  "language_info": {
   "codemirror_mode": {
    "name": "ipython",
    "version": 3
   },
   "file_extension": ".py",
   "mimetype": "text/x-python",
   "name": "python",
   "nbconvert_exporter": "python",
   "pygments_lexer": "ipython3",
   "version": "3.10.9"
  }
 },
 "nbformat": 4,
 "nbformat_minor": 5
}
